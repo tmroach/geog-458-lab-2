{
 "cells": [
  {
   "cell_type": "code",
   "execution_count": 1,
   "metadata": {},
   "outputs": [
    {
     "name": "stdout",
     "output_type": "stream",
     "text": [
      "Collecting tweepy\n",
      "  Downloading tweepy-3.10.0-py2.py3-none-any.whl (30 kB)\n",
      "Collecting requests-oauthlib>=0.7.0\n",
      "  Downloading requests_oauthlib-1.3.0-py2.py3-none-any.whl (23 kB)\n",
      "Requirement already satisfied: requests[socks]>=2.11.1 in /srv/conda/envs/notebook/lib/python3.7/site-packages (from tweepy) (2.24.0)\n",
      "Requirement already satisfied: six>=1.10.0 in /srv/conda/envs/notebook/lib/python3.7/site-packages (from tweepy) (1.15.0)\n",
      "Requirement already satisfied: oauthlib>=3.0.0 in /srv/conda/envs/notebook/lib/python3.7/site-packages (from requests-oauthlib>=0.7.0->tweepy) (3.0.1)\n",
      "Requirement already satisfied: chardet<4,>=3.0.2 in /srv/conda/envs/notebook/lib/python3.7/site-packages (from requests[socks]>=2.11.1->tweepy) (3.0.4)\n",
      "Requirement already satisfied: urllib3!=1.25.0,!=1.25.1,<1.26,>=1.21.1 in /srv/conda/envs/notebook/lib/python3.7/site-packages (from requests[socks]>=2.11.1->tweepy) (1.25.10)\n",
      "Requirement already satisfied: certifi>=2017.4.17 in /srv/conda/envs/notebook/lib/python3.7/site-packages (from requests[socks]>=2.11.1->tweepy) (2020.6.20)\n",
      "Requirement already satisfied: idna<3,>=2.5 in /srv/conda/envs/notebook/lib/python3.7/site-packages (from requests[socks]>=2.11.1->tweepy) (2.10)\n",
      "Requirement already satisfied: PySocks!=1.5.7,>=1.5.6; extra == \"socks\" in /srv/conda/envs/notebook/lib/python3.7/site-packages (from requests[socks]>=2.11.1->tweepy) (1.7.1)\n",
      "Installing collected packages: requests-oauthlib, tweepy\n",
      "Successfully installed requests-oauthlib-1.3.0 tweepy-3.10.0\n"
     ]
    }
   ],
   "source": [
    "# created on Dec 24, 2020\n",
    "# @author:          Bo Zhao\n",
    "# @email:           zhaobo@uw.edu\n",
    "# @website:         https://hgis.uw.edu\n",
    "# @organization:    Department of Geography, University of Washington, Seattle\n",
    "# @description:     Search geo-tagged tweets within the U.S. This script is modified from https://github.com/shawn-terryah/Twitter_Geolocation\n",
    "\n",
    "!python -m pip install tweepy\n",
    "import tweepy, json, time"
   ]
  },
  {
   "cell_type": "code",
   "execution_count": 2,
   "metadata": {},
   "outputs": [],
   "source": [
    "class StreamListener(tweepy.StreamListener):\n",
    "    \"\"\"tweepy.StreamListener is a class provided by tweepy used to access\n",
    "    the Twitter Streaming API to collect tweets in real-time.\n",
    "    \"\"\"\n",
    "\n",
    "    def __init__(self, time_limit=60, file=\"\"):\n",
    "        \"\"\"class initialization\"\"\"\n",
    "        self.start_time = time.time()\n",
    "        self.limit = time_limit\n",
    "        self.f = open(file, 'a', encoding=\"utf-8\")\n",
    "        super(StreamListener, self).__init__()\n",
    "\n",
    "    def on_data(self, data):\n",
    "        \"\"\"This is called when data are streamed in.\"\"\"\n",
    "        if (time.time() - self.start_time) < self.limit:\n",
    "            datajson = json.loads(data)\n",
    "            print(datajson, \"\\n\")\n",
    "            if 'id' not in datajson.keys():\n",
    "                time.sleep(10)\n",
    "            else:\n",
    "                # {'limit': {'track': 13, 'timestamp_ms': '1585851016736'}}\n",
    "\n",
    "                id = datajson['id']\n",
    "                username = datajson['user']['screen_name']\n",
    "                created_at = datajson['created_at']\n",
    "                text = datajson['text'].strip().replace(\"\\n\", \"\")\n",
    "\n",
    "                # process the geo-tags\n",
    "                if datajson['coordinates'] == None:\n",
    "                    try:\n",
    "                        bbox = datajson['place']['bounding_box']['coordinates'][0]\n",
    "                        lng = (bbox[0][0] + bbox[2][0]) / 2.0\n",
    "                        lat = (bbox[0][1] + bbox[1][1]) / 2.0\n",
    "                    except:\n",
    "                        lat = 0\n",
    "                        lng = 0\n",
    "                else:\n",
    "                    lng = datajson['coordinates']['coordinates'][0]\n",
    "                    lat = datajson['coordinates']['coordinates'][1]\n",
    "\n",
    "                if lat != 0:\n",
    "                    record = '%s, %s, %f, %f, %s \\n' % (username, created_at, lng, lat, text)\n",
    "                    print(record)\n",
    "                    self.f.write(record)\n",
    "                else:\n",
    "                    pass\n",
    "        else:\n",
    "            self.f.close()\n",
    "            print(\"finished\")\n",
    "            return False"
   ]
  },
  {
   "cell_type": "code",
   "execution_count": 4,
   "metadata": {},
   "outputs": [],
   "source": [
    "if __name__ == \"__main__\":\n",
    "    # These are provided to you through the Twitter API after you create a account\n",
    "    # register a Twitter App to get the keys and access tokens.\n",
    "    output_file = \"assets/tweets.csv\"\n",
    "\n",
    "    # Apply for your own Twitter API keys at https://developer.twitter.com/en/apply-for-access\n",
    "    consumer_key = \"your_consumer_key\"\n",
    "    consumer_secret = \"your_consumer_secret\"\n",
    "    access_token = \"your_access_token\"\n",
    "    access_token_secret = \"your_access_token_secret\"\n",
    "\n",
    "    myauth = tweepy.OAuthHandler(consumer_key, consumer_secret)\n",
    "    myauth.set_access_token(access_token, access_token_secret)\n",
    "\n",
    "    # LOCATIONS are the longitude, latitude coordinate corners for a box that restricts the\n",
    "    # geographic area from which you will stream tweets. The first two define the southwest\n",
    "    # corner of the box and the second two define the northeast corner of the box.\n",
    "    LOCATIONS = [-124.7771694, 24.520833, -66.947028, 49.384472,  # Contiguous US\n",
    "                 -164.639405, 58.806859, -144.152365, 71.76871,  # Alaska\n",
    "                 -160.161542, 18.776344, -154.641396, 22.878623]  # Hawaii\n",
    "\n",
    "    stream_listener = StreamListener(time_limit=60, file=output_file)\n",
    "    stream = tweepy.Stream(auth=myauth, listener=stream_listener)\n",
    "    # filter for tweets related to the phrase \"wall street\"\n",
    "    stream.filter(locations=LOCATIONS, track=['wall street'], is_async=True)\n",
    "    "
   ]
  },
  {
   "cell_type": "code",
   "execution_count": null,
   "metadata": {},
   "outputs": [],
   "source": []
  }
 ],
 "metadata": {
  "kernelspec": {
   "display_name": "Python 3",
   "language": "python",
   "name": "python3"
  },
  "language_info": {
   "codemirror_mode": {
    "name": "ipython",
    "version": 3
   },
   "file_extension": ".py",
   "mimetype": "text/x-python",
   "name": "python",
   "nbconvert_exporter": "python",
   "pygments_lexer": "ipython3",
   "version": "3.7.8"
  }
 },
 "nbformat": 4,
 "nbformat_minor": 2
}
